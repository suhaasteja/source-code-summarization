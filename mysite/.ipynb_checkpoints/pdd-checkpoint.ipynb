{
 "cells": [
  {
   "cell_type": "code",
   "execution_count": 41,
   "metadata": {},
   "outputs": [
    {
     "data": {
      "text/html": [
       "<div>\n",
       "<style scoped>\n",
       "    .dataframe tbody tr th:only-of-type {\n",
       "        vertical-align: middle;\n",
       "    }\n",
       "\n",
       "    .dataframe tbody tr th {\n",
       "        vertical-align: top;\n",
       "    }\n",
       "\n",
       "    .dataframe thead th {\n",
       "        text-align: right;\n",
       "    }\n",
       "</style>\n",
       "<table border=\"1\" class=\"dataframe\">\n",
       "  <thead>\n",
       "    <tr style=\"text-align: right;\">\n",
       "      <th></th>\n",
       "      <th>Code</th>\n",
       "      <th>Summary</th>\n",
       "    </tr>\n",
       "  </thead>\n",
       "  <tbody>\n",
       "    <tr>\n",
       "      <th>0</th>\n",
       "      <td>\\tpublic int getPlayerPosition() {\\n\\t\\treturn...</td>\n",
       "      <td>if mins or rate is less then zero throw exception</td>\n",
       "    </tr>\n",
       "    <tr>\n",
       "      <th>1</th>\n",
       "      <td>public void save preferences preference dto pr...</td>\n",
       "      <td>checks user belongs to community and he is an ...</td>\n",
       "    </tr>\n",
       "    <tr>\n",
       "      <th>2</th>\n",
       "      <td>public string get date long days new date get ...</td>\n",
       "      <td>new if posted less than 7days</td>\n",
       "    </tr>\n",
       "    <tr>\n",
       "      <th>3</th>\n",
       "      <td>private void validate first rental price int m...</td>\n",
       "      <td>if mins or rate is less then zero throw exception</td>\n",
       "    </tr>\n",
       "    <tr>\n",
       "      <th>4</th>\n",
       "      <td>public void send reports this admin service se...</td>\n",
       "      <td>not in use</td>\n",
       "    </tr>\n",
       "    <tr>\n",
       "      <th>...</th>\n",
       "      <td>...</td>\n",
       "      <td>...</td>\n",
       "    </tr>\n",
       "    <tr>\n",
       "      <th>314</th>\n",
       "      <td>private jbutton get jbutton2 if j button2 null...</td>\n",
       "      <td>this method initializes j button2</td>\n",
       "    </tr>\n",
       "    <tr>\n",
       "      <th>315</th>\n",
       "      <td>private jtext field get jtext field if j text ...</td>\n",
       "      <td>this method initializes j text field</td>\n",
       "    </tr>\n",
       "    <tr>\n",
       "      <th>316</th>\n",
       "      <td>private jtext field get jtext field1 if j text...</td>\n",
       "      <td>this method initializes j text field1</td>\n",
       "    </tr>\n",
       "    <tr>\n",
       "      <th>317</th>\n",
       "      <td>private jtext field get jtext field2 if j text...</td>\n",
       "      <td>this method initializes j text field2</td>\n",
       "    </tr>\n",
       "    <tr>\n",
       "      <th>318</th>\n",
       "      <td>code</td>\n",
       "      <td></td>\n",
       "    </tr>\n",
       "  </tbody>\n",
       "</table>\n",
       "<p>319 rows × 2 columns</p>\n",
       "</div>"
      ],
      "text/plain": [
       "                                                  Code  \\\n",
       "0    \\tpublic int getPlayerPosition() {\\n\\t\\treturn...   \n",
       "1    public void save preferences preference dto pr...   \n",
       "2    public string get date long days new date get ...   \n",
       "3    private void validate first rental price int m...   \n",
       "4    public void send reports this admin service se...   \n",
       "..                                                 ...   \n",
       "314  private jbutton get jbutton2 if j button2 null...   \n",
       "315  private jtext field get jtext field if j text ...   \n",
       "316  private jtext field get jtext field1 if j text...   \n",
       "317  private jtext field get jtext field2 if j text...   \n",
       "318                                               code   \n",
       "\n",
       "                                               Summary  \n",
       "0    if mins or rate is less then zero throw exception  \n",
       "1    checks user belongs to community and he is an ...  \n",
       "2                        new if posted less than 7days  \n",
       "3    if mins or rate is less then zero throw exception  \n",
       "4                                           not in use  \n",
       "..                                                 ...  \n",
       "314                  this method initializes j button2  \n",
       "315               this method initializes j text field  \n",
       "316              this method initializes j text field1  \n",
       "317              this method initializes j text field2  \n",
       "318                                                     \n",
       "\n",
       "[319 rows x 2 columns]"
      ]
     },
     "execution_count": 41,
     "metadata": {},
     "output_type": "execute_result"
    }
   ],
   "source": [
    "import pandas as pd\n",
    "df = pd.read_csv('dataset3.csv')\n",
    "userCode = \"code\"\n",
    "dfTemp = pd.DataFrame([[userCode, \"\" ]], columns = ['Code','Summary'])\n",
    "df.append(dfTemp, ignore_index = True)"
   ]
  },
  {
   "cell_type": "code",
   "execution_count": null,
   "metadata": {},
   "outputs": [],
   "source": []
  },
  {
   "cell_type": "code",
   "execution_count": null,
   "metadata": {},
   "outputs": [],
   "source": []
  },
  {
   "cell_type": "code",
   "execution_count": null,
   "metadata": {},
   "outputs": [],
   "source": []
  },
  {
   "cell_type": "code",
   "execution_count": null,
   "metadata": {},
   "outputs": [],
   "source": [
    "\n"
   ]
  },
  {
   "cell_type": "code",
   "execution_count": null,
   "metadata": {},
   "outputs": [],
   "source": []
  },
  {
   "cell_type": "code",
   "execution_count": null,
   "metadata": {},
   "outputs": [],
   "source": []
  }
 ],
 "metadata": {
  "kernelspec": {
   "display_name": "Python 3",
   "language": "python",
   "name": "python3"
  },
  "language_info": {
   "codemirror_mode": {
    "name": "ipython",
    "version": 3
   },
   "file_extension": ".py",
   "mimetype": "text/x-python",
   "name": "python",
   "nbconvert_exporter": "python",
   "pygments_lexer": "ipython3",
   "version": "3.8.5"
  }
 },
 "nbformat": 4,
 "nbformat_minor": 4
}
